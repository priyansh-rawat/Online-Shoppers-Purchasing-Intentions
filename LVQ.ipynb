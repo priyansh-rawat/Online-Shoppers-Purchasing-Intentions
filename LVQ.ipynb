{
 "cells": [
  {
   "cell_type": "code",
   "execution_count": null,
   "metadata": {},
   "outputs": [],
   "source": [
    "import numpy as np\n",
    "import Database\n",
    "from sklearn import preprocessing\n",
    "\n",
    "X_train,Y_train,X_test,Y_test=Database.main()\n",
    "X = preprocessing.normalize(X_train)\n",
    "l=[0,1]\n",
    "w=np.zeros((17,2))\n",
    "lrate= 0.6\n",
    "e=1\n",
    "D=[0,0]\n",
    "while(e<=1):\n",
    "    for i in range(X.shape[0]): # number of patterns 4\n",
    "        for j in range(w.shape[1]): # size of neurons \n",
    "            temp=0\n",
    "            for k in range(X.shape[1]):\n",
    "                temp = temp + ((w[k,j]-X[i,k])**2)\n",
    "            D[j]=temp\n",
    "        if(D[0]<D[1]):\n",
    "            J=0\n",
    "        else:\n",
    "            J=1\n",
    "       \n",
    "        if J==Y_train[i]: \n",
    "            for m in range(X.shape[1]):\n",
    "                w[m,J]=w[m,J] + (lrate *(X[i,m]-w[m,J]))\n",
    "        else:      \n",
    "            for m in range(X.shape[1]):\n",
    "                w[m,J]=w[m,J] - (lrate *(X[i,m]-w[m,J]))     \n",
    "    e=e+1\n",
    "    lrate = 0.5*lrate;\n"
   ]
  },
  {
   "cell_type": "code",
   "execution_count": null,
   "metadata": {},
   "outputs": [],
   "source": [
    "count=0\n",
    "\n",
    "for i in range(X_test.shape[0]): # number of patterns 4\n",
    "    for j in range(w.shape[1]): # size of neurons \n",
    "        temp=0\n",
    "        for k in range(X_test.shape[1]):\n",
    "            temp = temp + ((w[k,j]-X_test[i,k])**2)\n",
    "            D[j]=temp\n",
    "    if(D[0]<D[1]):\n",
    "        J=0\n",
    "    else:\n",
    "        J=1\n",
    "    if J==Y_test[i]:\n",
    "        count+=1\n",
    "sp= (count/Y_test.shape[0])*100            \n",
    "print(sp)"
   ]
  }
 ],
 "metadata": {
  "kernelspec": {
   "display_name": "Python 3",
   "language": "python",
   "name": "python3"
  },
  "language_info": {
   "codemirror_mode": {
    "name": "ipython",
    "version": 3
   },
   "file_extension": ".py",
   "mimetype": "text/x-python",
   "name": "python",
   "nbconvert_exporter": "python",
   "pygments_lexer": "ipython3",
   "version": "3.6.5"
  }
 },
 "nbformat": 4,
 "nbformat_minor": 2
}
