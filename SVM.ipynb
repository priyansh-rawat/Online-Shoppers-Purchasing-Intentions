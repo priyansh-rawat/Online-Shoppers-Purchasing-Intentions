{
 "cells": [
  {
   "cell_type": "code",
   "execution_count": 32,
   "metadata": {
    "scrolled": true
   },
   "outputs": [],
   "source": [
    "import numpy as np    \n",
    "import pandas as pd\n",
    "import matplotlib.pyplot as plt\n",
    "import Database\n",
    "from sklearn.svm import SVC\n",
    "from sklearn.metrics import accuracy_score\n",
    "from sklearn import preprocessing as p\n",
    "\n",
    "\n",
    "\n",
    "X_train,Y_train,X_test,Y_test = Database.main()\n",
    "\n",
    "\n"
   ]
  },
  {
   "cell_type": "code",
   "execution_count": null,
   "metadata": {
    "scrolled": false
   },
   "outputs": [],
   "source": [
    "svm = SVC(kernel='rbf')\n",
    "svm.fit(X_train, Y_train)\n",
    "y=svm.predict(X_test)\n",
    "count=0\n",
    "for i in range(Y_test.shape[0]):\n",
    "    if y[i]==Y_test[i]:\n",
    "         count+=1\n",
    "sp= (count/Y_test.shape[0])*100            \n",
    "print(\"rbf\",sp)\n",
    "\n",
    "\n",
    "\n"
   ]
  },
  {
   "cell_type": "code",
   "execution_count": 31,
   "metadata": {},
   "outputs": [
    {
     "name": "stdout",
     "output_type": "stream",
     "text": [
      "sigmoid 70.08583690987125\n"
     ]
    }
   ],
   "source": [
    "svm = SVC(kernel='sigmoid')\n",
    "svm.fit(X_train, Y_train)\n",
    "y=svm.predict(X_test)\n",
    "count=0\n",
    "for i in range(Y_test.shape[0]):\n",
    "    if y[i]==Y_test[i]:\n",
    "         count+=1\n",
    "sp= (count/Y_test.shape[0])*100            \n",
    "print(\"sigmoid\",sp)\n",
    "\n",
    "\n",
    "\n"
   ]
  },
  {
   "cell_type": "code",
   "execution_count": null,
   "metadata": {},
   "outputs": [],
   "source": [
    "84.67811158798283 + 85.1931330472103 + 83.60515021459227+83.81974248927038 +"
   ]
  },
  {
   "cell_type": "code",
   "execution_count": null,
   "metadata": {},
   "outputs": [],
   "source": [
    "70.60085836909872 + 70.55793991416309 + 69.74248927038627+69.6137339055794 +"
   ]
  },
  {
   "cell_type": "code",
   "execution_count": null,
   "metadata": {},
   "outputs": [],
   "source": [
    "/5"
   ]
  },
  {
   "cell_type": "code",
   "execution_count": null,
   "metadata": {},
   "outputs": [],
   "source": [
    "/5"
   ]
  }
 ],
 "metadata": {
  "kernelspec": {
   "display_name": "Python 3",
   "language": "python",
   "name": "python3"
  },
  "language_info": {
   "codemirror_mode": {
    "name": "ipython",
    "version": 3
   },
   "file_extension": ".py",
   "mimetype": "text/x-python",
   "name": "python",
   "nbconvert_exporter": "python",
   "pygments_lexer": "ipython3",
   "version": "3.6.5"
  }
 },
 "nbformat": 4,
 "nbformat_minor": 2
}
