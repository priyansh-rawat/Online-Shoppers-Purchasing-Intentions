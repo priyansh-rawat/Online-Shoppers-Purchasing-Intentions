{
 "cells": [
  {
   "cell_type": "markdown",
   "metadata": {},
   "source": [
    "# Implementation of SOM"
   ]
  },
  {
   "cell_type": "markdown",
   "metadata": {},
   "source": [
    "<br>\n",
    "### Importing libraries"
   ]
  },
  {
   "cell_type": "code",
   "execution_count": 27,
   "metadata": {},
   "outputs": [],
   "source": [
    "import numpy as np\n",
    "import Database\n",
    "from sklearn import preprocessing"
   ]
  },
  {
   "cell_type": "markdown",
   "metadata": {},
   "source": [
    "<br> \n",
    "### Loading the dataset and initializing weights and learning rate"
   ]
  },
  {
   "cell_type": "code",
   "execution_count": 28,
   "metadata": {},
   "outputs": [],
   "source": [
    "X_train,Y_train,X_test,Y_test=Database.main()\n",
    "x = preprocessing.normalize(X_train)\n",
    "X_test = preprocessing.normalize(X_test)\n",
    "w=np.random.random ([17,2])\n",
    "lrate= 0.6\n",
    "e=1\n",
    "D=[0,0]"
   ]
  },
  {
   "cell_type": "markdown",
   "metadata": {},
   "source": [
    "<br>\n",
    "### Training the data set"
   ]
  },
  {
   "cell_type": "code",
   "execution_count": 29,
   "metadata": {},
   "outputs": [],
   "source": [
    "while(e<=5): # e is epoch\n",
    "    for i in range(x.shape[0]): \n",
    "        for j in range(w.shape[1]):  \n",
    "            temp=0\n",
    "            for k in range(x.shape[1]):\n",
    "                temp = temp + ((w[k,j]-x[i,k])**2)\n",
    "            D[j]=temp\n",
    "        if(D[0]<D[1]):\n",
    "            J=0\n",
    "        else:\n",
    "            J=1\n",
    "        \n",
    "        for m in range(17):\n",
    "             w[m,J]=w[m,J] + (lrate *(x[i,m]-w[m,J]))\n",
    "    e=e+1.\n",
    "    lrate = 0.5*lrate;\n"
   ]
  },
  {
   "cell_type": "markdown",
   "metadata": {},
   "source": [
    "<br>\n",
    "### Testing the data set"
   ]
  },
  {
   "cell_type": "code",
   "execution_count": 30,
   "metadata": {},
   "outputs": [
    {
     "name": "stdout",
     "output_type": "stream",
     "text": [
      "84.12017167381974\n"
     ]
    }
   ],
   "source": [
    "count=0\n",
    "\n",
    "\n",
    "for i in range(X_test.shape[0]): \n",
    "    for j in range(w.shape[1]):  \n",
    "        temp=0\n",
    "        for k in range(X_test.shape[1]):\n",
    "            temp = temp + ((w[k,j]-X_test[i,k])**2)\n",
    "            D[j]=temp\n",
    "    if(D[0]<D[1]):\n",
    "        J=-1\n",
    "    else:\n",
    "        J=1\n",
    "    if J==Y_test[i]:\n",
    "        count+=1\n",
    "sp= (count/Y_test.shape[0])*100            \n",
    "print(sp)"
   ]
  },
  {
   "cell_type": "code",
   "execution_count": null,
   "metadata": {},
   "outputs": [],
   "source": []
  }
 ],
 "metadata": {
  "kernelspec": {
   "display_name": "Python 3",
   "language": "python",
   "name": "python3"
  },
  "language_info": {
   "codemirror_mode": {
    "name": "ipython",
    "version": 3
   },
   "file_extension": ".py",
   "mimetype": "text/x-python",
   "name": "python",
   "nbconvert_exporter": "python",
   "pygments_lexer": "ipython3",
   "version": "3.6.5"
  }
 },
 "nbformat": 4,
 "nbformat_minor": 2
}
