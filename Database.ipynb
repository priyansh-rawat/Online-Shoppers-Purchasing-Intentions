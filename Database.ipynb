{
 "cells": [
  {
   "cell_type": "markdown",
   "metadata": {},
   "source": [
    "<br>\n",
    "### 1) Importing necessary libraries"
   ]
  },
  {
   "cell_type": "code",
   "execution_count": 16,
   "metadata": {},
   "outputs": [],
   "source": [
    "import numpy as np\n",
    "import pandas as pd\n",
    "import matplotlib.pyplot as plt\n",
    "\n",
    "np.set_printoptions(suppress=True) #to keep the values in decimals"
   ]
  },
  {
   "cell_type": "markdown",
   "metadata": {},
   "source": [
    "<br>\n",
    "### 2) Loading the dataset and dividing it into training and testing set"
   ]
  },
  {
   "cell_type": "code",
   "execution_count": 5,
   "metadata": {},
   "outputs": [],
   "source": [
    "def database():\n",
    "    data = pd.read_csv('dataset.csv')  \n",
    "    data = data.sample(frac=1).reset_index(drop=True)\n",
    "    training_set = data[:10000]\n",
    "    test_set = data[10000:12330].reset_index(drop=True)\n",
    "    return training_set,test_set"
   ]
  },
  {
   "cell_type": "markdown",
   "metadata": {},
   "source": [
    "<br>\n",
    "### 3) Converting non- numeric attributes to numeric attributes"
   ]
  },
  {
   "cell_type": "code",
   "execution_count": 6,
   "metadata": {
    "scrolled": true
   },
   "outputs": [],
   "source": [
    "# for special day\n",
    "def calc_spl(data):\n",
    "    n0 = (data.loc[(data['SpecialDay']==0.0) & (data['Revenue']==True)].shape[0])/(data.loc[data['SpecialDay']==0.0].shape[0])\n",
    "    n2 = (data.loc[(data['SpecialDay']==0.2) & (data['Revenue']==True)].shape[0])/(data.loc[data['SpecialDay']==0.2].shape[0])\n",
    "    n4 = (data.loc[(data['SpecialDay']==0.4) & (data['Revenue']==True)].shape[0])/(data.loc[data['SpecialDay']==0.4].shape[0])\n",
    "    n6 = (data.loc[(data['SpecialDay']==0.6) & (data['Revenue']==True)].shape[0])/(data.loc[data['SpecialDay']==0.6].shape[0])\n",
    "    n8 = (data.loc[(data['SpecialDay']==0.8) & (data['Revenue']==True)].shape[0])/(data.loc[data['SpecialDay']==0.8].shape[0])\n",
    "    n1 = (data.loc[(data['SpecialDay']==1.0) & (data['Revenue']==True)].shape[0])/(data.loc[data['SpecialDay']==1.0].shape[0])\n",
    "    return n0,n2,n4,n6,n8,n1\n",
    "    \n",
    "\n",
    "# for month\n",
    "def calc_month(data):\n",
    "    feb = (data.loc[(data['Month']=='Feb') & (data['Revenue']==True)].shape[0])/(data.loc[data['Month']=='Feb'].shape[0])\n",
    "    mar = (data.loc[(data['Month']=='Mar') & (data['Revenue']==True)].shape[0])/(data.loc[data['Month']=='Mar'].shape[0])\n",
    "    may = (data.loc[(data['Month']=='May') & (data['Revenue']==True)].shape[0])/(data.loc[data['Month']=='May'].shape[0])\n",
    "    jun = (data.loc[(data['Month']=='June') & (data['Revenue']==True)].shape[0])/(data.loc[data['Month']=='June'].shape[0])\n",
    "    jul = (data.loc[(data['Month']=='Jul') & (data['Revenue']==True)].shape[0])/(data.loc[data['Month']=='Jul'].shape[0])\n",
    "    aug = (data.loc[(data['Month']=='Aug') & (data['Revenue']==True)].shape[0])/(data.loc[data['Month']=='Aug'].shape[0])\n",
    "    sep = (data.loc[(data['Month']=='Sep') & (data['Revenue']==True)].shape[0])/(data.loc[data['Month']=='Sep'].shape[0])\n",
    "    octo = (data.loc[(data['Month']=='Oct') & (data['Revenue']==True)].shape[0])/(data.loc[data['Month']=='Oct'].shape[0])\n",
    "    nov = (data.loc[(data['Month']=='Nov') & (data['Revenue']==True)].shape[0])/(data.loc[data['Month']=='Nov'].shape[0])\n",
    "    dec = (data.loc[(data['Month']=='Dec') & (data['Revenue']==True)].shape[0])/(data.loc[data['Month']=='Dec'].shape[0])\n",
    "    return feb,mar,may,jun,jul,aug,sep,octo,nov,dec\n",
    "\n",
    "\n",
    "# for operating system\n",
    "def calc_os(data):\n",
    "    os1 = (data.loc[(data['OperatingSystems']==1) & (data['Revenue']==True)].shape[0])/(data.loc[data['OperatingSystems']==1].shape[0])\n",
    "    os2 = (data.loc[(data['OperatingSystems']==2) & (data['Revenue']==True)].shape[0])/(data.loc[data['OperatingSystems']==2].shape[0])\n",
    "    os3 = (data.loc[(data['OperatingSystems']==3) & (data['Revenue']==True)].shape[0])/(data.loc[data['OperatingSystems']==3].shape[0])\n",
    "    os4 = (data.loc[(data['OperatingSystems']==4) & (data['Revenue']==True)].shape[0])/(data.loc[data['OperatingSystems']==4].shape[0])\n",
    "    os5 = (data.loc[(data['OperatingSystems']==5) & (data['Revenue']==True)].shape[0])/(data.loc[data['OperatingSystems']==5].shape[0])\n",
    "    os6 = (data.loc[(data['OperatingSystems']==6) & (data['Revenue']==True)].shape[0])/(data.loc[data['OperatingSystems']==6].shape[0])\n",
    "    os7 = (data.loc[(data['OperatingSystems']==7) & (data['Revenue']==True)].shape[0])/(data.loc[data['OperatingSystems']==7].shape[0])\n",
    "    os8 = (data.loc[(data['OperatingSystems']==8) & (data['Revenue']==True)].shape[0])/(data.loc[data['OperatingSystems']==8].shape[0])\n",
    "    return os1,os2,os3,os4,os5,os6,os7,os8\n",
    "    \n",
    "\n",
    "# for browser\n",
    "def calc_browser(data):\n",
    "    b1 = (data.loc[(data['Browser']==1) & (data['Revenue']==True)].shape[0])/(data.loc[data['Browser']==1].shape[0])\n",
    "    b2 = (data.loc[(data['Browser']==2) & (data['Revenue']==True)].shape[0])/(data.loc[data['Browser']==2].shape[0])\n",
    "    b3 = (data.loc[(data['Browser']==3) & (data['Revenue']==True)].shape[0])/(data.loc[data['Browser']==3].shape[0])\n",
    "    b4 = (data.loc[(data['Browser']==4) & (data['Revenue']==True)].shape[0])/(data.loc[data['Browser']==4].shape[0])\n",
    "    b5 = (data.loc[(data['Browser']==5) & (data['Revenue']==True)].shape[0])/(data.loc[data['Browser']==5].shape[0])\n",
    "    b6 = (data.loc[(data['Browser']==6) & (data['Revenue']==True)].shape[0])/(data.loc[data['Browser']==6].shape[0])\n",
    "    b7 = (data.loc[(data['Browser']==7) & (data['Revenue']==True)].shape[0])/(data.loc[data['Browser']==7].shape[0])\n",
    "    b8 = (data.loc[(data['Browser']==8) & (data['Revenue']==True)].shape[0])/(data.loc[data['Browser']==8].shape[0])\n",
    "    b9 = (data.loc[(data['Browser']==9) & (data['Revenue']==True)].shape[0])/(data.loc[data['Browser']==9].shape[0])\n",
    "    b10 = (data.loc[(data['Browser']==10) & (data['Revenue']==True)].shape[0])/(data.loc[data['Browser']==10].shape[0])\n",
    "    b11 = (data.loc[(data['Browser']==11) & (data['Revenue']==True)].shape[0])/(data.loc[data['Browser']==11].shape[0])\n",
    "    return b1,b2,b3,b4,b5,b6,b7,b8,b9,b10,b11\n",
    "\n",
    "\n",
    "# for region\n",
    "def calc_region(data):\n",
    "    r1 = (data.loc[(data['Region']==1) & (data['Revenue']==True)].shape[0])/(data.loc[data['Region']==1].shape[0])\n",
    "    r2 = (data.loc[(data['Region']==2) & (data['Revenue']==True)].shape[0])/(data.loc[data['Region']==2].shape[0])\n",
    "    r3 = (data.loc[(data['Region']==3) & (data['Revenue']==True)].shape[0])/(data.loc[data['Region']==3].shape[0])\n",
    "    r4 = (data.loc[(data['Region']==4) & (data['Revenue']==True)].shape[0])/(data.loc[data['Region']==4].shape[0])\n",
    "    r5 = (data.loc[(data['Region']==5) & (data['Revenue']==True)].shape[0])/(data.loc[data['Region']==5].shape[0])\n",
    "    r6 = (data.loc[(data['Region']==6) & (data['Revenue']==True)].shape[0])/(data.loc[data['Region']==6].shape[0])\n",
    "    r7 = (data.loc[(data['Region']==7) & (data['Revenue']==True)].shape[0])/(data.loc[data['Region']==7].shape[0])\n",
    "    r8 = (data.loc[(data['Region']==8) & (data['Revenue']==True)].shape[0])/(data.loc[data['Region']==8].shape[0])\n",
    "    r9 = (data.loc[(data['Region']==9) & (data['Revenue']==True)].shape[0])/(data.loc[data['Region']==9].shape[0])\n",
    "    return r1,r2,r3,r4,r5,r6,r7,r8,r9\n",
    "\n",
    "\n",
    "# for traffic type \n",
    "def calc_trafftype(data):\n",
    "    t1 = (data.loc[(data['TrafficType']==1) & (data['Revenue']==True)].shape[0])/(data.loc[data['TrafficType']==1].shape[0])\n",
    "    t2 = (data.loc[(data['TrafficType']==2) & (data['Revenue']==True)].shape[0])/(data.loc[data['TrafficType']==2].shape[0])\n",
    "    t3 = (data.loc[(data['TrafficType']==3) & (data['Revenue']==True)].shape[0])/(data.loc[data['TrafficType']==3].shape[0])\n",
    "    t4 = (data.loc[(data['TrafficType']==4) & (data['Revenue']==True)].shape[0])/(data.loc[data['TrafficType']==4].shape[0])\n",
    "    t5 = (data.loc[(data['TrafficType']==5) & (data['Revenue']==True)].shape[0])/(data.loc[data['TrafficType']==5].shape[0])\n",
    "    t6 = (data.loc[(data['TrafficType']==6) & (data['Revenue']==True)].shape[0])/(data.loc[data['TrafficType']==6].shape[0])\n",
    "    t7 = (data.loc[(data['TrafficType']==7) & (data['Revenue']==True)].shape[0])/(data.loc[data['TrafficType']==7].shape[0])\n",
    "    t8 = (data.loc[(data['TrafficType']==8) & (data['Revenue']==True)].shape[0])/(data.loc[data['TrafficType']==8].shape[0])\n",
    "    t9 = (data.loc[(data['TrafficType']==9) & (data['Revenue']==True)].shape[0])/(data.loc[data['TrafficType']==9].shape[0])\n",
    "    t10 = (data.loc[(data['TrafficType']==10) & (data['Revenue']==True)].shape[0])/(data.loc[data['TrafficType']==10].shape[0])\n",
    "    t11 = (data.loc[(data['TrafficType']==11) & (data['Revenue']==True)].shape[0])/(data.loc[data['TrafficType']==11].shape[0])\n",
    "    t12 = (data.loc[(data['TrafficType']==12) & (data['Revenue']==True)].shape[0])/(data.loc[data['TrafficType']==12].shape[0])\n",
    "    t13 = (data.loc[(data['TrafficType']==13) & (data['Revenue']==True)].shape[0])/(data.loc[data['TrafficType']==13].shape[0])\n",
    "    t14 = (data.loc[(data['TrafficType']==14) & (data['Revenue']==True)].shape[0])/(data.loc[data['TrafficType']==14].shape[0])\n",
    "    t15 = (data.loc[(data['TrafficType']==15) & (data['Revenue']==True)].shape[0])/(data.loc[data['TrafficType']==15].shape[0])\n",
    "    t16 = (data.loc[(data['TrafficType']==16) & (data['Revenue']==True)].shape[0])/(data.loc[data['TrafficType']==16].shape[0])\n",
    "    t17 = (data.loc[(data['TrafficType']==17) & (data['Revenue']==True)].shape[0])/(data.loc[data['TrafficType']==17].shape[0])\n",
    "    t18 = (data.loc[(data['TrafficType']==18) & (data['Revenue']==True)].shape[0])/(data.loc[data['TrafficType']==18].shape[0])\n",
    "    t19 = (data.loc[(data['TrafficType']==19) & (data['Revenue']==True)].shape[0])/(data.loc[data['TrafficType']==19].shape[0])\n",
    "    t20 = (data.loc[(data['TrafficType']==20) & (data['Revenue']==True)].shape[0])/(data.loc[data['TrafficType']==20].shape[0])\n",
    "    return t1,t2,t3,t4,t5,t6,t7,t8,t9,t10,t11,t12,t13,t14,t15,t16,t17,t18,t19,t20\n",
    "\n",
    "\n",
    "# for visitor type\n",
    "def calc_visitortype(data):\n",
    "    v1 = (data.loc[(data['VisitorType']=='Returning_Visitor') & (data['Revenue']==True)].shape[0])/(data.loc[data['VisitorType']=='Returning_Visitor'].shape[0])\n",
    "    v2 = (data.loc[(data['VisitorType']=='New_Visitor') & (data['Revenue']==True)].shape[0])/(data.loc[data['VisitorType']=='New_Visitor'].shape[0])\n",
    "    v3 = (data.loc[(data['VisitorType']=='Other') & (data['Revenue']==True)].shape[0])/(data.loc[data['VisitorType']=='Other'].shape[0])\n",
    "    return v1,v2,v3\n",
    "\n",
    "\n",
    "# for weekdays/weekends\n",
    "def calc_weekend(data):\n",
    "    wt1 = (data.loc[(data['Weekend']==True) & (data['Revenue']==True)].shape[0])/(data.loc[data['Weekend']==True].shape[0])\n",
    "    wt2 = (data.loc[(data['Weekend']==False) & (data['Revenue']==True)].shape[0])/(data.loc[data['Weekend']==False].shape[0])\n",
    "    return wt1,wt2"
   ]
  },
  {
   "cell_type": "markdown",
   "metadata": {},
   "source": [
    "<br>\n",
    "### 4) The main function"
   ]
  },
  {
   "cell_type": "code",
   "execution_count": 7,
   "metadata": {},
   "outputs": [],
   "source": [
    "def main():\n",
    "    # loading the database\n",
    "    training_set,test_set=database()\n",
    "    \n",
    "    # accumulating all the variables\n",
    "    n0,n2,n4,n6,n8,n1 = calc_spl(training_set)\n",
    "    \n",
    "    feb,mar,may,jun,jul,aug,sep,octo,nov,dec = calc_month(training_set)\n",
    "    \n",
    "    os1,os2,os3,os4,os5,os6,os7,os8 = calc_os(training_set)\n",
    "    \n",
    "    b1,b2,b3,b4,b5,b6,b7,b8,b9,b10,b11 = calc_browser(training_set)\n",
    "    \n",
    "    r1,r2,r3,r4,r5,r6,r7,r8,r9 = calc_region(training_set)\n",
    "    \n",
    "    t1,t2,t3,t4,t5,t6,t7,t8,t9,t10,t11,t12,t13,t14,t15,t16,t17,t18,t19,t20 = calc_trafftype(training_set)\n",
    "    \n",
    "    v1,v2,v3 = calc_visitortype(training_set)\n",
    "    \n",
    "    wt1,wt2 = calc_weekend(training_set)\n",
    "    \n",
    "    # replacing the values \n",
    "    training_set['SpecialDay']= training_set['SpecialDay'].replace([0.0,0.2,0.4,0.6,0.8,1.0],[n0,n2,n4,n6,n8,n1])\n",
    "    test_set['SpecialDay']= test_set['SpecialDay'].replace([0.0,0.2,0.4,0.6,0.8,1.0],[n0,n2,n4,n6,n8,n1])\n",
    "    \n",
    "    training_set['Month']= training_set['Month'].replace(['Feb','Mar','May','June','Jul','Aug','Sep','Oct','Nov','Dec'],[feb,mar,may,jun,jul,aug,sep,octo,nov,dec])\n",
    "    test_set['Month']= test_set['Month'].replace(['Feb','Mar','May','June','Jul','Aug','Sep','Oct','Nov','Dec'],[feb,mar,may,jun,jul,aug,sep,octo,nov,dec])\n",
    "    \n",
    "    training_set['OperatingSystems']= training_set['OperatingSystems'].replace([1,2,3,4,5,6,7,8],[os1,os2,os3,os4,os5,os6,os7,os8])\n",
    "    test_set['OperatingSystems']= test_set['OperatingSystems'].replace([1,2,3,4,5,6,7,8],[os1,os2,os3,os4,os5,os6,os7,os8])\n",
    "    \n",
    "    training_set['Browser']= training_set['Browser'].replace([1,2,3,4,5,6,7,8,9,10,11],[b1,b2,b3,b4,b5,b6,b7,b8,b9,b10,b11])\n",
    "    test_set['Browser']= test_set['Browser'].replace([1,2,3,4,5,6,7,8,9,10,11],[b1,b2,b3,b4,b5,b6,b7,b8,b9,b10,b11])\n",
    "    \n",
    "    training_set['Region']= training_set['Region'].replace([1,2,3,4,5,6,7,8,9],[r1,r2,r3,r4,r5,r6,r7,r8,r9])\n",
    "    test_set['Region']= test_set['Region'].replace([1,2,3,4,5,6,7,8,9],[r1,r2,r3,r4,r5,r6,r7,r8,r9])\n",
    "    \n",
    "    training_set['TrafficType']= training_set['TrafficType'].replace([1,2,3,4,5,6,7,8,9,10,11,12,13,14,15,16,17,18,19,20],[t1,t2,t3,t4,t5,t6,t7,t8,t9,t10,t11,t12,t13,t14,t15,t16,t17,t18,t19,t20])\n",
    "    test_set['TrafficType']= test_set['TrafficType'].replace([1,2,3,4,5,6,7,8,9,10,11,12,13,14,15,16,17,18,19,20],[t1,t2,t3,t4,t5,t6,t7,t8,t9,t10,t11,t12,t13,t14,t15,t16,t17,t18,t19,t20])\n",
    "    \n",
    "    training_set['VisitorType']= training_set['VisitorType'].replace(['Returning_Visitor','New_Visitor','Other'],[v1,v2,v3])\n",
    "    test_set['VisitorType']= test_set['VisitorType'].replace(['Returning_Visitor','New_Visitor','Other'],[v1,v2,v3])\n",
    "    \n",
    "    training_set['Weekend']= training_set['Weekend'].replace([True,False],[wt1,wt2])\n",
    "    test_set['Weekend']= test_set['Weekend'].replace([True,False],[wt1,wt2])\n",
    "    \n",
    "    training_set['Revenue']= training_set['Revenue'].replace([True,False],[1.0,-1.0])\n",
    "    test_set['Revenue']= test_set['Revenue'].replace([True,False],[1.0,-1.0])\n",
    "    \n",
    "    # converting values to numpy\n",
    "    set1 = training_set.to_numpy()\n",
    "    \n",
    "    #splitting values as inputs and outputs\n",
    "    X_train = set1[:,:17]\n",
    "    Y_train = set1[:,17]\n",
    "        \n",
    "    set1 = test_set.to_numpy()\n",
    "    X_test = set1[:,:17]\n",
    "    Y_test = set1[:,17]\n",
    "    return X_train,Y_train,X_test,Y_test"
   ]
  },
  {
   "cell_type": "markdown",
   "metadata": {},
   "source": [
    "<br>\n",
    "### Calling the main function"
   ]
  },
  {
   "cell_type": "code",
   "execution_count": 10,
   "metadata": {},
   "outputs": [],
   "source": [
    "if __name__=='__main__':\n",
    "    main()"
   ]
  },
  {
   "cell_type": "markdown",
   "metadata": {},
   "source": [
    "<br><br>\n",
    "## Data Visualisation"
   ]
  },
  {
   "cell_type": "markdown",
   "metadata": {},
   "source": [
    "##### Number of users who purchased and did not purchase products"
   ]
  },
  {
   "cell_type": "code",
   "execution_count": 39,
   "metadata": {},
   "outputs": [
    {
     "data": {
      "image/png": "[encoded data removed]",
      "text/plain": [
       "<Figure size 432x288 with 1 Axes>"
      ]
     },
     "metadata": {},
     "output_type": "display_data"
    }
   ],
   "source": [
    "bought = ['Yes', 'No']\n",
    "no = [1908,10422]\n",
    "plt.bar(bought,no,color=['y','c'])\n",
    "plt.show()"
   ]
  },
  {
   "cell_type": "markdown",
   "metadata": {},
   "source": [
    "<br>\n",
    "##### Number of users who purchased on a special day vs number of users who purchased on a regular day"
   ]
  },
  {
   "cell_type": "code",
   "execution_count": 36,
   "metadata": {},
   "outputs": [
    {
     "data": {
      "image/png": "[encoded data removed]",
      "text/plain": [
       "<Figure size 432x288 with 1 Axes>"
      ]
     },
     "metadata": {},
     "output_type": "display_data"
    }
   ],
   "source": [
    "day = ['Special Day', 'Regular Day']\n",
    "no = [77,1831]\n",
    "plt.bar(day,no,color=['r','g'])\n",
    "plt.show()"
   ]
  },
  {
   "cell_type": "markdown",
   "metadata": {},
   "source": [
    "<br>\n",
    "##### Number of purchases ever month"
   ]
  },
  {
   "cell_type": "code",
   "execution_count": 26,
   "metadata": {},
   "outputs": [
    {
     "data": {
      "image/png": "[encoded data removed]",
      "text/plain": [
       "<Figure size 432x288 with 1 Axes>"
      ]
     },
     "metadata": {},
     "output_type": "display_data"
    }
   ],
   "source": [
    "month = ['Feb','Mar','May','June','Jul','Aug','Sep','Oct','Nov','Dec']\n",
    "no = [3,192,365,29,66,76,86,115,760,216]\n",
    "plt.pie(no,labels = month,autopct='%1.2f%%')\n",
    "plt.show()"
   ]
  },
  {
   "cell_type": "markdown",
   "metadata": {},
   "source": [
    "<br>\n",
    "##### Number of users from each region"
   ]
  },
  {
   "cell_type": "code",
   "execution_count": 28,
   "metadata": {},
   "outputs": [
    {
     "data": {
      "image/png": "[encoded data removed]",
      "text/plain": [
       "<Figure size 432x288 with 1 Axes>"
      ]
     },
     "metadata": {},
     "output_type": "display_data"
    }
   ],
   "source": [
    "region = [1,2,3,4,5,6,7,8,9]\n",
    "no = [4780,1136,2403,1182,318,805,761,434,511]\n",
    "plt.pie(no,labels = region,autopct='%1.2f%%')\n",
    "plt.show()"
   ]
  },
  {
   "cell_type": "markdown",
   "metadata": {},
   "source": [
    "<br>\n",
    "##### Number of users who visit online shopping sites on weekends and weekdays"
   ]
  },
  {
   "cell_type": "code",
   "execution_count": 32,
   "metadata": {},
   "outputs": [
    {
     "data": {
      "image/png": "[encoded data removed]",
      "text/plain": [
       "<Figure size 432x288 with 1 Axes>"
      ]
     },
     "metadata": {},
     "output_type": "display_data"
    }
   ],
   "source": [
    "day = ['Weekend', 'Weekday']\n",
    "no = [2868,9462]\n",
    "plt.bar(day,no,color=['y','g'])\n",
    "plt.show()"
   ]
  }
 ],
 "metadata": {
  "kernelspec": {
   "display_name": "Python 3",
   "language": "python",
   "name": "python3"
  },
  "language_info": {
   "codemirror_mode": {
    "name": "ipython",
    "version": 3
   },
   "file_extension": ".py",
   "mimetype": "text/x-python",
   "name": "python",
   "nbconvert_exporter": "python",
   "pygments_lexer": "ipython3",
   "version": "3.6.5"
  }
 },
 "nbformat": 4,
 "nbformat_minor": 2
}
