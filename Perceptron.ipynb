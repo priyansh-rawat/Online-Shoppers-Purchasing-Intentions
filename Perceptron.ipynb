{
 "cells": [
  {
   "cell_type": "markdown",
   "metadata": {},
   "source": [
    "# Implementation of Perceptron "
   ]
  },
  {
   "cell_type": "markdown",
   "metadata": {},
   "source": [
    "<br>\n",
    "### Importing libraries  "
   ]
  },
  {
   "cell_type": "code",
   "execution_count": 53,
   "metadata": {},
   "outputs": [],
   "source": [
    "import numpy as np    \n",
    "import pandas as pd\n",
    "import Database\n",
    "import matplotlib.pyplot as plt"
   ]
  },
  {
   "cell_type": "markdown",
   "metadata": {},
   "source": [
    "<br>\n",
    "### Creating a class"
   ]
  },
  {
   "cell_type": "code",
   "execution_count": 46,
   "metadata": {
    "scrolled": true
   },
   "outputs": [],
   "source": [
    "class Perceptron(object):\n",
    "    \n",
    "    def __init__(self, eta=0.5, n_iter=100):\n",
    "        self.eta = eta # Learning rate (between 0.0 and 1.0)\n",
    "        self.n_iter = n_iter # Passes over the training dataset.\n",
    "        self.count_t=0\n",
    "    \n",
    "    def fit(self, X, y):\n",
    "        self.w_ = np.zeros(1 + X.shape[1])\n",
    "        for _ in range(self.n_iter): \n",
    "            x=0\n",
    "            for xi, target in zip(X, y):\n",
    "                error=target-self.predict(xi)\n",
    "                if error!=0:\n",
    "                    update = self.eta * error\n",
    "                    self.w_[1:] += update * xi\n",
    "                    self.w_[0] += update \n",
    "                else:\n",
    "                    x+=1 \n",
    "            cal.append(x)\n",
    "        return self\n",
    "    \n",
    "    def net_input(self, X):\n",
    "        \"\"\"Calculate net input\"\"\"\n",
    "        #print(self.w_[1:])\n",
    "        return np.dot(X, self.w_[1:]) + self.w_[0]\n",
    "    \n",
    "    def predict(self, X):\n",
    "        \"\"\"Return class label after unit step\"\"\"\n",
    "        return np.where(self.net_input(X) >= 0.0, 1, -1)\n",
    "    \n",
    "\n",
    "        "
   ]
  },
  {
   "cell_type": "markdown",
   "metadata": {},
   "source": [
    "#### Implementing the code"
   ]
  },
  {
   "cell_type": "code",
   "execution_count": 61,
   "metadata": {},
   "outputs": [
    {
     "name": "stdout",
     "output_type": "stream",
     "text": [
      "87.5107296137339\n"
     ]
    }
   ],
   "source": [
    "X_train,Y_train,X_test,Y_test = Database.main()  #loading the database\n",
    "\n",
    "cal = []    # to check the growth\n",
    "\n",
    "ppn = Perceptron()  # creating object for the class\n",
    "\n",
    "ppn.fit(X_train,Y_train)  #training the code\n",
    "\n",
    "count=0\n",
    "Z=ppn.predict(X_test)   #testing the code\n",
    "\n",
    "for i in range(Y_test.shape[0]):   #calculating accuracy\n",
    "    if Z[i]==Y_test[i]:\n",
    "        count+=1\n",
    "sp= (count/Y_test.shape[0])*100            \n",
    "print(sp)"
   ]
  },
  {
   "cell_type": "markdown",
   "metadata": {},
   "source": [
    "<br>\n",
    "### Correct predictions per epoch during training"
   ]
  },
  {
   "cell_type": "code",
   "execution_count": 62,
   "metadata": {},
   "outputs": [
    {
     "data": {
      "image/png": "[encoded data removed]",
      "text/plain": [
       "<Figure size 432x288 with 1 Axes>"
      ]
     },
     "metadata": {},
     "output_type": "display_data"
    }
   ],
   "source": [
    "plt.plot([i for i in range(1,101)],cal)\n",
    "plt.xlabel(\"epoch\")\n",
    "plt.ylabel(\"correct predictions\")\n",
    "plt.show()"
   ]
  },
  {
   "cell_type": "code",
   "execution_count": null,
   "metadata": {},
   "outputs": [],
   "source": []
  }
 ],
 "metadata": {
  "kernelspec": {
   "display_name": "Python 3",
   "language": "python",
   "name": "python3"
  },
  "language_info": {
   "codemirror_mode": {
    "name": "ipython",
    "version": 3
   },
   "file_extension": ".py",
   "mimetype": "text/x-python",
   "name": "python",
   "nbconvert_exporter": "python",
   "pygments_lexer": "ipython3",
   "version": "3.6.5"
  }
 },
 "nbformat": 4,
 "nbformat_minor": 2
}
