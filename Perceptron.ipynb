{
 "cells": [
  {
   "cell_type": "code",
   "execution_count": 38,
   "metadata": {
    "scrolled": true
   },
   "outputs": [
    {
     "name": "stdout",
     "output_type": "stream",
     "text": [
      "89.2274678111588\n"
     ]
    }
   ],
   "source": [
    "import numpy as np    \n",
    "import pandas as pd\n",
    "import Database\n",
    "\n",
    "\n",
    "class Perceptron(object):\n",
    "    \n",
    "    def __init__(self, eta=0.1, n_iter=100):\n",
    "        self.eta = eta # Learning rate (between 0.0 and 1.0)\n",
    "        self.n_iter = n_iter # Passes over the training dataset.\n",
    "    \n",
    "    def fit(self, X, y):\n",
    "        self.w_ = np.zeros(1 + X.shape[1])\n",
    "        for _ in range(self.n_iter): \n",
    "            for xi, target in zip(X, y):\n",
    "                error=target-self.predict(xi)\n",
    "                if error!=0:\n",
    "                    update = self.eta * error\n",
    "                    self.w_[1:] += update * xi\n",
    "                    self.w_[0] += update\n",
    "            #print(self.w_[1:],count)        \n",
    "        return self\n",
    "    \n",
    "    def net_input(self, X):\n",
    "        \"\"\"Calculate net input\"\"\"\n",
    "        #print(self.w_[1:])\n",
    "        return np.dot(X, self.w_[1:]) + self.w_[0]\n",
    "    \n",
    "    def predict(self, X):\n",
    "        \"\"\"Return class label after unit step\"\"\"\n",
    "        return np.where(self.net_input(X) >= 0.0, 1, -1)\n",
    "\n",
    "\n",
    "def main():\n",
    "    X_train,Y_train,X_test,Y_test = Database.main()\n",
    "    ppn = Perceptron()\n",
    "    ppn.fit(X_train,Y_train)\n",
    "    count=0\n",
    "    Z=ppn.predict(X_test)\n",
    "    for i in range(Y_test.shape[0]):\n",
    "        if Z[i]==Y_test[i]:\n",
    "             count+=1\n",
    "    sp= (count/Y_test.shape[0])*100            \n",
    "    print(sp)\n",
    "    \n",
    "if __name__=='__main__':\n",
    "    main()"
   ]
  },
  {
   "cell_type": "code",
   "execution_count": 32,
   "metadata": {},
   "outputs": [
    {
     "data": {
      "text/plain": [
       "415.236051502146"
      ]
     },
     "execution_count": 32,
     "metadata": {},
     "output_type": "execute_result"
    }
   ],
   "source": [
    "87.16738197424893 + 89.2274678111588 +"
   ]
  },
  {
   "cell_type": "code",
   "execution_count": 33,
   "metadata": {},
   "outputs": [
    {
     "data": {
      "text/plain": [
       "83.0472103004292"
      ]
     },
     "execution_count": 33,
     "metadata": {},
     "output_type": "execute_result"
    }
   ],
   "source": [
    "415.236051502146/5\n"
   ]
  },
  {
   "cell_type": "code",
   "execution_count": null,
   "metadata": {},
   "outputs": [],
   "source": []
  }
 ],
 "metadata": {
  "kernelspec": {
   "display_name": "Python 3",
   "language": "python",
   "name": "python3"
  },
  "language_info": {
   "codemirror_mode": {
    "name": "ipython",
    "version": 3
   },
   "file_extension": ".py",
   "mimetype": "text/x-python",
   "name": "python",
   "nbconvert_exporter": "python",
   "pygments_lexer": "ipython3",
   "version": "3.6.5"
  }
 },
 "nbformat": 4,
 "nbformat_minor": 2
}
